{
  "nbformat": 4,
  "nbformat_minor": 0,
  "metadata": {
    "colab": {
      "provenance": [],
      "authorship_tag": "ABX9TyM2UVTVAoSIo7TgAVzvlxiD",
      "include_colab_link": true
    },
    "kernelspec": {
      "name": "python3",
      "display_name": "Python 3"
    },
    "language_info": {
      "name": "python"
    }
  },
  "cells": [
    {
      "cell_type": "markdown",
      "metadata": {
        "id": "view-in-github",
        "colab_type": "text"
      },
      "source": [
        "<a href=\"https://colab.research.google.com/github/vtu27429/python/blob/main/usecase.ipynb\" target=\"_parent\"><img src=\"https://colab.research.google.com/assets/colab-badge.svg\" alt=\"Open In Colab\"/></a>"
      ]
    },
    {
      "cell_type": "code",
      "execution_count": null,
      "metadata": {
        "id": "u0aown3Vn-rh"
      },
      "outputs": [],
      "source": [
        "def find_winning_strategy(cards):\n",
        "    n = len(cards)\n",
        "    dp = [[0] * n for _ in range(n)]\n",
        "\n",
        "    # Base case: only one card left\n",
        "    for i in range(n):\n",
        "        dp[i][i] = cards[i]\n",
        "\n",
        "    # Build the DP table\n",
        "    for length in range(2, n + 1):\n",
        "        for i in range(n - length + 1):\n",
        "            j = i + length - 1\n",
        "            pick_left = cards[i] + min(dp[i + 2][j] if i + 2 <= j else 0,\n",
        "                                       dp[i + 1][j - 1] if i + 1 <= j - 1 else 0)\n",
        "            pick_right = cards[j] + min(dp[i + 1][j - 1] if i + 1 <= j - 1 else 0,\n",
        "                                        dp[i][j - 2] if i <= j - 2 else 0)\n",
        "            dp[i][j] = max(pick_left, pick_right)\n",
        "\n",
        "    return dp[0][n - 1]\n",
        "\n",
        "\n",
        "# Example Run\n",
        "cards = [3, 9, 1, 2]\n",
        "max_score = find_winning_strategy(cards)\n",
        "\n",
        "print(\"Cards:\", cards)\n",
        "print(\"Maximum points the first player can achieve:\", max_score)\n"
      ]
    }
  ]
}